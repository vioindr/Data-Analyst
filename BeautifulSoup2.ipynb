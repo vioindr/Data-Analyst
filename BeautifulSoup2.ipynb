{
  "nbformat": 4,
  "nbformat_minor": 0,
  "metadata": {
    "colab": {
      "provenance": [],
      "authorship_tag": "ABX9TyMG9iOGKojZp6/xMxkkBDTf",
      "include_colab_link": true
    },
    "kernelspec": {
      "name": "python3",
      "display_name": "Python 3"
    },
    "language_info": {
      "name": "python"
    }
  },
  "cells": [
    {
      "cell_type": "markdown",
      "metadata": {
        "id": "view-in-github",
        "colab_type": "text"
      },
      "source": [
        "<a href=\"https://colab.research.google.com/github/vioindr/Data-Analyst/blob/main/BeautifulSoup2.ipynb\" target=\"_parent\"><img src=\"https://colab.research.google.com/assets/colab-badge.svg\" alt=\"Open In Colab\"/></a>"
      ]
    },
    {
      "cell_type": "code",
      "execution_count": 6,
      "metadata": {
        "colab": {
          "base_uri": "https://localhost:8080/"
        },
        "id": "10aCpTyt4n5Y",
        "outputId": "f086b9a3-6e55-4528-ffc8-ed7e7d314e27"
      },
      "outputs": [
        {
          "output_type": "stream",
          "name": "stdout",
          "text": [
            "Judul Artikel: China Akan Larang Semua Film dari AS, Balas Tarif Impor 104 Persen Trump\n",
            "Tanggal Publikasi: 09/04/2025, 12:31 WIB\n",
            "Tag: tarif impor Amerika, tarif impor Trump, tarif impor as, Kementerian Luar Negeri China, Beijing, Amerika Serikat, Tarif impor Trump\n"
          ]
        }
      ],
      "source": [
        "import requests\n",
        "from bs4 import BeautifulSoup\n",
        "from datetime import datetime\n",
        "import pytz\n",
        "\n",
        "url = 'https://www.kompas.com/global/read/2025/04/09/123149070/china-akan-larang-semua-film-dari-as-balas-tarif-impor-104-persen-trump'\n",
        "\n",
        "response = requests.get(url)\n",
        "\n",
        "if response.status_code == 200:\n",
        "  soup = BeautifulSoup(response.content, 'html.parser')\n",
        "  content_title = soup.find('h1').text\n",
        "\n",
        "  content_published_date = soup.find('meta', property='article:published_time')\n",
        "  if content_published_date:\n",
        "    utc_time = datetime.fromisoformat(content_published_date['content'].replace('Z', '+00:00'))\n",
        "\n",
        "    wib_time = utc_time.astimezone(pytz.timezone('Asia/Jakarta'))\n",
        "    published_date = wib_time.strftime('%d/%m/%Y, %H:%M WIB')\n",
        "  else:\n",
        "    published_date = \"Tanggal publikasi tidak ditemukan\"\n",
        "\n",
        "  content_tags = soup.find('meta', {'name': 'keywords'})\n",
        "  if content_tags:\n",
        "    tags = content_tags['content']\n",
        "  else:\n",
        "    tags = \"Tag tidak ditemukan\"\n",
        "\n",
        "  print(\"Judul Artikel:\", content_title)\n",
        "  print(\"Tanggal Publikasi:\", published_date)\n",
        "  print(\"Tag:\", tags)\n",
        "\n",
        "else:\n",
        "  print(f'Gagal mengakses URL. Kode status: {response.status_code}')\n"
      ]
    },
    {
      "cell_type": "markdown",
      "source": [
        "import requests\n",
        "from bs4 import BeautifulSoup\n",
        "from datetime import datetime\n",
        "import pytz\n",
        "\n",
        "# URL yang ingin di-scrape\n",
        "url = 'https://www.kompas.com/global/read/2025/04/09/123149070/china-akan-larang-semua-film-dari-as-balas-tarif-impor-104-persen-trump'\n",
        "\n",
        "# Mengirim permintaan GET ke URL\n",
        "response = requests.get(url)\n",
        "\n",
        "# Memeriksa apakah permintaan berhasil\n",
        "if response.status_code == 200:\n",
        "    # Membuat objek BeautifulSoup dari konten HTML\n",
        "    soup = BeautifulSoup(response.content, 'html.parser')\n",
        "    # Mengambil judul artikel\n",
        "    content_title = soup.find('h1').text  # Menyimpan judul\n",
        "\n",
        "    # Mencoba mengambil tanggal publikasi\n",
        "    content_published_date = soup.find('meta', property='article:published_time')\n",
        "    if content_published_date:\n",
        "        # Mengambil konten dan mengonversi ke objek datetime\n",
        "        utc_time = datetime.fromisoformat(content_published_date['content'].replace('Z', '+00:00'))\n",
        "        \n",
        "        # Mengonversi ke zona waktu WIB\n",
        "        wib_time = utc_time.astimezone(pytz.timezone('Asia/Jakarta'))\n",
        "        published_date = wib_time.strftime('%d/%m/%Y, %H:%M WIB')  # Format yang diinginkan\n",
        "    else:\n",
        "        published_date = \"Tanggal publikasi tidak ditemukan\"\n",
        "\n",
        "    # Mengambil tag\n",
        "    content_tags = soup.find('meta', {'name': 'keywords'})\n",
        "    if content_tags:\n",
        "        tags = content_tags['content']  # Mengambil tag dari tag meta\n",
        "    else:\n",
        "        tags = \"Tag tidak ditemukan\"\n",
        "\n",
        "    # Menampilkan hasil\n",
        "    print(\"Judul Artikel:\", content_title)\n",
        "    print(\"Tanggal Publikasi:\", published_date)\n",
        "    print(\"Tag:\", tags)\n",
        "\n",
        "else:\n",
        "    print(f'Gagal mengakses URL. Kode status: {response.status_code}')"
      ],
      "metadata": {
        "id": "vjD2bJPSDzzr"
      }
    }
  ]
}