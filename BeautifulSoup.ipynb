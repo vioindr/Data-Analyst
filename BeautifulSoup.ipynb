{
  "nbformat": 4,
  "nbformat_minor": 0,
  "metadata": {
    "colab": {
      "provenance": [],
      "authorship_tag": "ABX9TyNahV6L5O91ZhzWa6HR5tTS",
      "include_colab_link": true
    },
    "kernelspec": {
      "name": "python3",
      "display_name": "Python 3"
    },
    "language_info": {
      "name": "python"
    }
  },
  "cells": [
    {
      "cell_type": "markdown",
      "metadata": {
        "id": "view-in-github",
        "colab_type": "text"
      },
      "source": [
        "<a href=\"https://colab.research.google.com/github/vioindr/Data-Analyst/blob/main/BeautifulSoup.ipynb\" target=\"_parent\"><img src=\"https://colab.research.google.com/assets/colab-badge.svg\" alt=\"Open In Colab\"/></a>"
      ]
    },
    {
      "cell_type": "code",
      "execution_count": null,
      "metadata": {
        "colab": {
          "base_uri": "https://localhost:8080/"
        },
        "id": "EV0mnZK2MkQX",
        "outputId": "3fa150f5-a4f3-4119-e67d-91f93296bc10"
      },
      "outputs": [
        {
          "output_type": "stream",
          "name": "stdout",
          "text": [
            "Empty DataFrame\n",
            "Columns: [Judul Berita]\n",
            "Index: []\n"
          ]
        }
      ],
      "source": [
        "import pandas as pd\n",
        "import requests\n",
        "from bs4 import BeautifulSoup\n",
        "\n",
        "url = 'https://www.kompas.com/'\n",
        "response = requests.get(url)\n",
        "\n",
        "if response.status_code == 200:\n",
        "  soup = BeautifulSoup(response.content, 'html.parser')\n",
        "\n",
        "berita_utama = soup.find_all('h3', class_='most__title')\n",
        "\n",
        "judul_berita = []\n",
        "for berita in berita_utama:\n",
        "  judul_berita.append(berita.text.strip())\n",
        "\n",
        "df_berita = pd.DataFrame({'Judul Berita' : judul_berita})\n",
        "\n",
        "import pandas as pd\n",
        "import requests\n",
        "from bs4 import BeautifulSoup\n",
        "\n",
        "url = 'https://www.kompas.com/'\n",
        "response = requests.get(url)\n",
        "\n",
        "if response.status_code == 200:\n",
        "  soup = BeautifulSoup(response.content, 'html.parser')\n",
        "\n",
        "  berita_utama = soup.find_all('h3', class_='most__title')\n",
        "\n",
        "  judul_berita = []\n",
        "  for berita in berita_utama:\n",
        "    judul_berita.append(berita.text.strip())\n",
        "\n",
        "  df_berita = pd.DataFrame({'Judul Berita' : judul_berita})\n",
        "\n",
        "  print(df_berita)\n",
        "\n",
        "else:\n",
        "  print(f'Gagal Mengakses URL. Kode status: {response.status_code}')"
      ]
    }
  ]
}