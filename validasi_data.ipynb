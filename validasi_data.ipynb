{
  "nbformat": 4,
  "nbformat_minor": 0,
  "metadata": {
    "colab": {
      "provenance": [],
      "authorship_tag": "ABX9TyMdRHJ9ZjSYGT9mv88Ozi0X",
      "include_colab_link": true
    },
    "kernelspec": {
      "name": "python3",
      "display_name": "Python 3"
    },
    "language_info": {
      "name": "python"
    }
  },
  "cells": [
    {
      "cell_type": "markdown",
      "metadata": {
        "id": "view-in-github",
        "colab_type": "text"
      },
      "source": [
        "<a href=\"https://colab.research.google.com/github/vioindr/Data-Analyst/blob/main/validasi_data.ipynb\" target=\"_parent\"><img src=\"https://colab.research.google.com/assets/colab-badge.svg\" alt=\"Open In Colab\"/></a>"
      ]
    },
    {
      "cell_type": "code",
      "execution_count": 2,
      "metadata": {
        "colab": {
          "base_uri": "https://localhost:8080/"
        },
        "id": "gHZnC5hcfdDG",
        "outputId": "dbce8865-4704-4c7a-d8fb-0a792320f901"
      },
      "outputs": [
        {
          "output_type": "stream",
          "name": "stdout",
          "text": [
            "\n",
            "Validasi Umur:\n",
            "Nilai umur valid\n",
            "\n",
            "Validasi Jenis Kelamin:\n",
            "Semua nilai jenis kelamin valid.\n",
            "\n",
            "Tidak ada baris data yang duplikat.\n",
            "\n",
            "Validasi Saldo Rata-rata:\n",
            "Nilai saldo rata-rata dalam rentang yang wajar.\n"
          ]
        }
      ],
      "source": [
        "import pandas as pd\n",
        "\n",
        "data = pd.read_csv('Data_Nasabah.csv', delimiter=\";\")\n",
        "\n",
        "print(\"\\nValidasi Umur:\")\n",
        "if data['umur'].min() < 0:\n",
        "  print(\"Terdapat nilai umur negatif, perlu diperiksa lebih kanjut.\")\n",
        "else:\n",
        "  print(\"Nilai umur valid\")\n",
        "\n",
        "print(\"\\nValidasi Jenis Kelamin:\")\n",
        "invalid_gender = data['jenis_kelamin'].apply(lambda x: x not in ['Laki-Laki', 'Perempuan']).sum()\n",
        "if invalid_gender > 0:\n",
        "  print(f\"Terdapat {invalid_gender} nilai jenis kelamin yang tidak valid.\")\n",
        "else:\n",
        "  print(\"Semua nilai jenis kelamin valid.\")\n",
        "\n",
        "duplicate_rows = data.duplicated().sum()\n",
        "if duplicate_rows > 0:\n",
        "  print(f\"\\nTerdapat {duplicate_rows} baris data yang duplikat.\")\n",
        "else:\n",
        "  print(\"\\nTidak ada baris data yang duplikat.\")\n",
        "\n",
        "print(\"\\nValidasi Saldo Rata-rata:\")\n",
        "if data['saldo_rata_rata'].max() > 1972000:\n",
        "  print(\"Terdapat saldo rata-rata yang tidak realistis, perlu diperiksa.\")\n",
        "else:\n",
        "  print(\"Nilai saldo rata-rata dalam rentang yang wajar.\")"
      ]
    }
  ]
}