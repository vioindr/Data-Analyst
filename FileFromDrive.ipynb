{
  "nbformat": 4,
  "nbformat_minor": 0,
  "metadata": {
    "colab": {
      "provenance": [],
      "mount_file_id": "12UqzWqcMpwGYyE7cCfbTcBJgeiFqTVY3",
      "authorship_tag": "ABX9TyOWt3vEwjQvwXEu3dyhJWVV",
      "include_colab_link": true
    },
    "kernelspec": {
      "name": "python3",
      "display_name": "Python 3"
    },
    "language_info": {
      "name": "python"
    }
  },
  "cells": [
    {
      "cell_type": "markdown",
      "metadata": {
        "id": "view-in-github",
        "colab_type": "text"
      },
      "source": [
        "<a href=\"https://colab.research.google.com/github/vioindr/Data-Analyst/blob/main/FileFromDrive.ipynb\" target=\"_parent\"><img src=\"https://colab.research.google.com/assets/colab-badge.svg\" alt=\"Open In Colab\"/></a>"
      ]
    },
    {
      "cell_type": "code",
      "execution_count": 2,
      "metadata": {
        "colab": {
          "base_uri": "https://localhost:8080/"
        },
        "id": "U_f3FpxUboaL",
        "outputId": "c076f7ae-90dd-4453-e0ac-14dc5cfe1988"
      },
      "outputs": [
        {
          "output_type": "stream",
          "name": "stdout",
          "text": [
            "Mounted at /content/drive\n"
          ]
        }
      ],
      "source": [
        "from google.colab import drive\n",
        "drive.mount('/content/drive')"
      ]
    },
    {
      "cell_type": "code",
      "source": [
        "import pandas as pd\n",
        "data = pd.read_csv('/content/drive/MyDrive/Data/house_prices.csv')\n",
        "print(data.head())"
      ],
      "metadata": {
        "colab": {
          "base_uri": "https://localhost:8080/"
        },
        "id": "W-cctNgwccP5",
        "outputId": "3b944ef3-9651-42b9-dd66-6056325bdea1"
      },
      "execution_count": 5,
      "outputs": [
        {
          "output_type": "stream",
          "name": "stdout",
          "text": [
            "   Index                                              Title  \\\n",
            "0      0  1 BHK Ready to Occupy Flat for sale in Srushti...   \n",
            "1      1  2 BHK Ready to Occupy Flat for sale in Dosti V...   \n",
            "2      2  2 BHK Ready to Occupy Flat for sale in Sunrise...   \n",
            "3      3        1 BHK Ready to Occupy Flat for sale Kasheli   \n",
            "4      4  2 BHK Ready to Occupy Flat for sale in TenX Ha...   \n",
            "\n",
            "                                         Description Amount(in rupees)  \\\n",
            "0  Bhiwandi, Thane has an attractive 1 BHK Flat f...           42 Lac    \n",
            "1  One can find this stunning 2 BHK flat for sale...           98 Lac    \n",
            "2  Up for immediate sale is a 2 BHK apartment in ...          1.40 Cr    \n",
            "3  This beautiful 1 BHK Flat is available for sal...           25 Lac    \n",
            "4  This lovely 2 BHK Flat in Pokhran Road, Thane ...          1.60 Cr    \n",
            "\n",
            "   Price (in rupees) location Carpet Area         Status         Floor  \\\n",
            "0             6000.0    thane    500 sqft  Ready to Move  10 out of 11   \n",
            "1            13799.0    thane    473 sqft  Ready to Move   3 out of 22   \n",
            "2            17500.0    thane    779 sqft  Ready to Move  10 out of 29   \n",
            "3                NaN    thane    530 sqft  Ready to Move    1 out of 3   \n",
            "4            18824.0    thane    635 sqft  Ready to Move  20 out of 42   \n",
            "\n",
            "  Transaction  ... facing             overlooking  \\\n",
            "0      Resale  ...    NaN                     NaN   \n",
            "1      Resale  ...   East             Garden/Park   \n",
            "2      Resale  ...   East             Garden/Park   \n",
            "3      Resale  ...    NaN                     NaN   \n",
            "4      Resale  ...   West  Garden/Park, Main Road   \n",
            "\n",
            "                               Society Bathroom Balcony Car Parking  \\\n",
            "0  Srushti Siddhi Mangal Murti Complex        1       2         NaN   \n",
            "1                          Dosti Vihar        2     NaN      1 Open   \n",
            "2                 Sunrise by Kalpataru        2     NaN   1 Covered   \n",
            "3                                  NaN        1       1         NaN   \n",
            "4          TenX Habitat Raymond Realty        2     NaN   1 Covered   \n",
            "\n",
            "              Ownership Super Area Dimensions  Plot Area  \n",
            "0                   NaN        NaN        NaN        NaN  \n",
            "1              Freehold        NaN        NaN        NaN  \n",
            "2              Freehold        NaN        NaN        NaN  \n",
            "3                   NaN        NaN        NaN        NaN  \n",
            "4  Co-operative Society        NaN        NaN        NaN  \n",
            "\n",
            "[5 rows x 21 columns]\n"
          ]
        }
      ]
    }
  ]
}