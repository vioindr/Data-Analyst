{
  "nbformat": 4,
  "nbformat_minor": 0,
  "metadata": {
    "colab": {
      "provenance": [],
      "authorship_tag": "ABX9TyMifaNeMqkrJlGaDNnKBs9f",
      "include_colab_link": true
    },
    "kernelspec": {
      "name": "python3",
      "display_name": "Python 3"
    },
    "language_info": {
      "name": "python"
    }
  },
  "cells": [
    {
      "cell_type": "markdown",
      "metadata": {
        "id": "view-in-github",
        "colab_type": "text"
      },
      "source": [
        "<a href=\"https://colab.research.google.com/github/vioindr/Data-Analyst/blob/main/mendeskripsikan_data.ipynb\" target=\"_parent\"><img src=\"https://colab.research.google.com/assets/colab-badge.svg\" alt=\"Open In Colab\"/></a>"
      ]
    },
    {
      "cell_type": "code",
      "execution_count": 34,
      "metadata": {
        "colab": {
          "base_uri": "https://localhost:8080/"
        },
        "id": "-d_waSiSPvxW",
        "outputId": "de193842-2a85-443f-90f7-bfb3f65ecfce"
      },
      "outputs": [
        {
          "output_type": "stream",
          "name": "stdout",
          "text": [
            "Jumlah data (baris,kolom): (100, 10)\n",
            "\n",
            "Informasi tipe data dan skema pengkodean:\n",
            "<class 'pandas.core.frame.DataFrame'>\n",
            "RangeIndex: 100 entries, 0 to 99\n",
            "Data columns (total 10 columns):\n",
            " #   Column                     Non-Null Count  Dtype \n",
            "---  ------                     --------------  ----- \n",
            " 0   nasabah_id                 100 non-null    object\n",
            " 1   umur                       100 non-null    int64 \n",
            " 2   jenis_kelamin              100 non-null    object\n",
            " 3   pendapatan                 100 non-null    int64 \n",
            " 4   saldo_rata_rata            100 non-null    int64 \n",
            " 5   jumlah_transaksi           100 non-null    int64 \n",
            " 6   jenis_produk               100 non-null    object\n",
            " 7   frekuensi_kunjungi_cabang  100 non-null    int64 \n",
            " 8   pengguna_mobile_banking    100 non-null    object\n",
            " 9   skor_kredit                100 non-null    int64 \n",
            "dtypes: int64(6), object(4)\n",
            "memory usage: 7.9+ KB\n",
            "None\n",
            "\n",
            "Statistik deskriptif untuk data numerik:\n",
            "             umur    pendapatan  saldo_rata_rata  jumlah_transaksi  \\\n",
            "count  100.000000  1.000000e+02     1.000000e+02         100.00000   \n",
            "mean    43.380000  4.555500e+06     8.159000e+05          12.78000   \n",
            "std     13.232788  1.587004e+06     4.634987e+05           6.72036   \n",
            "min     20.000000  2.800000e+06     1.475000e+05           2.00000   \n",
            "25%     32.000000  3.100000e+06     4.485000e+05           7.75000   \n",
            "50%     45.000000  3.475000e+06     7.652500e+05          13.00000   \n",
            "75%     54.250000  6.225000e+06     1.050000e+06          18.25000   \n",
            "max     64.000000  7.000000e+06     1.972000e+06          25.00000   \n",
            "\n",
            "       frekuensi_kunjungi_cabang  skor_kredit  \n",
            "count                 100.000000   100.000000  \n",
            "mean                    2.700000   698.000000  \n",
            "std                     1.494096   149.057646  \n",
            "min                     1.000000   500.000000  \n",
            "25%                     1.000000   600.000000  \n",
            "50%                     3.000000   700.000000  \n",
            "75%                     4.000000   800.000000  \n",
            "max                     5.000000   900.000000  \n",
            "\n",
            "Beberapa baris pertama data:\n",
            "  nasabah_id  umur jenis_kelamin  pendapatan  saldo_rata_rata  \\\n",
            "0       N001    22     Perempuan     5800000          1508000   \n",
            "1       N002    64     Perempuan     5700000          1254000   \n",
            "2       N003    27     Perempuan     2950000           590000   \n",
            "3       N004    34     Perempuan     3100000           186000   \n",
            "4       N005    45     Laki-Laki     6700000          1474000   \n",
            "\n",
            "   jumlah_transaksi  jenis_produk  frekuensi_kunjungi_cabang  \\\n",
            "0                19      tabungan                          1   \n",
            "1                 9  kartu_kredit                          2   \n",
            "2                12      tabungan                          1   \n",
            "3                16      deposito                          5   \n",
            "4                15  kartu_kredit                          3   \n",
            "\n",
            "  pengguna_mobile_banking  skor_kredit  \n",
            "0                   TIDAK          900  \n",
            "1                   TIDAK          900  \n",
            "2                      YA          500  \n",
            "3                   TIDAK          700  \n",
            "4                      YA          800  \n",
            "\n",
            "Jumlah nilai unik untuk setiap kolom:\n",
            "nasabah_id: 100\n",
            "umur: 40\n",
            "jenis_kelamin: 2\n",
            "pendapatan: 30\n",
            "saldo_rata_rata: 90\n",
            "jumlah_transaksi: 24\n",
            "jenis_produk: 3\n",
            "frekuensi_kunjungi_cabang: 5\n",
            "pengguna_mobile_banking: 2\n",
            "skor_kredit: 5\n"
          ]
        }
      ],
      "source": [
        "import pandas as pd\n",
        "\n",
        "data = pd.read_csv('Data_Nasabah.csv', delimiter=\";\")\n",
        "\n",
        "print(\"Jumlah data (baris,kolom):\", data.shape)\n",
        "\n",
        "print(\"\\nInformasi tipe data dan skema pengkodean:\")\n",
        "print(data.info())\n",
        "\n",
        "print(\"\\nStatistik deskriptif untuk data numerik:\")\n",
        "print(data.describe())\n",
        "\n",
        "print(\"\\nBeberapa baris pertama data:\")\n",
        "print(data.head())\n",
        "\n",
        "print(\"\\nJumlah nilai unik untuk setiap kolom:\")\n",
        "for column in data.columns:\n",
        "  print(f\"{column}: {data[column].nunique()}\")"
      ]
    },
    {
      "cell_type": "code",
      "source": [
        "data = pd.read_csv(\"Data_Nasabah.csv\", delimiter=\";\")\n",
        "\n",
        "data['jenis_kelamin'] = data['jenis_kelamin'].map({'Laki-Laki': 1, 'Perempuan': 2})\n",
        "data['jenis_produk'] = data['jenis_produk'].map({'tabungan': 1, 'kartu_kredit': 2, 'deposito': 3})\n",
        "data['pengguna_mobile_banking'] = data['pengguna_mobile_banking'].map({'YA':1, 'TIDAK': 2})\n",
        "print(data.head())\n"
      ],
      "metadata": {
        "colab": {
          "base_uri": "https://localhost:8080/"
        },
        "id": "UYKT7h3NXi8s",
        "outputId": "57f09b54-587d-40a4-a742-f6119dbcda42"
      },
      "execution_count": 37,
      "outputs": [
        {
          "output_type": "stream",
          "name": "stdout",
          "text": [
            "  nasabah_id  umur  jenis_kelamin  pendapatan  saldo_rata_rata  \\\n",
            "0       N001    22              2     5800000          1508000   \n",
            "1       N002    64              2     5700000          1254000   \n",
            "2       N003    27              2     2950000           590000   \n",
            "3       N004    34              2     3100000           186000   \n",
            "4       N005    45              1     6700000          1474000   \n",
            "\n",
            "   jumlah_transaksi  jenis_produk  frekuensi_kunjungi_cabang  \\\n",
            "0                19             1                          1   \n",
            "1                 9             2                          2   \n",
            "2                12             1                          1   \n",
            "3                16             3                          5   \n",
            "4                15             2                          3   \n",
            "\n",
            "   pengguna_mobile_banking  skor_kredit  \n",
            "0                        2          900  \n",
            "1                        2          900  \n",
            "2                        1          500  \n",
            "3                        2          700  \n",
            "4                        1          800  \n"
          ]
        }
      ]
    }
  ]
}